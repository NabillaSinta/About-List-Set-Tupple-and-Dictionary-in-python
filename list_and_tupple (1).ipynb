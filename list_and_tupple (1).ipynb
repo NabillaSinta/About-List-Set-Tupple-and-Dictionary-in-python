{
  "nbformat": 4,
  "nbformat_minor": 0,
  "metadata": {
    "colab": {
      "name": "list and tupple",
      "provenance": [],
      "collapsed_sections": []
    },
    "kernelspec": {
      "name": "python3",
      "display_name": "Python 3"
    },
    "language_info": {
      "name": "python"
    }
  },
  "cells": [
    {
      "cell_type": "markdown",
      "source": [
        "# List"
      ],
      "metadata": {
        "id": "q7Jquig937RK"
      }
    },
    {
      "cell_type": "markdown",
      "source": [
        "the list is an array type in Python using square brackets, which allows changing element values ​​and duplicating index values."
      ],
      "metadata": {
        "id": "TR6TeN241Omx"
      }
    },
    {
      "cell_type": "code",
      "execution_count": null,
      "metadata": {
        "id": "YkW_5AqSnTUW"
      },
      "outputs": [],
      "source": [
        " a = [21, 3.26, 'perusahaan']"
      ]
    },
    {
      "cell_type": "code",
      "source": [
        "type (a[0])"
      ],
      "metadata": {
        "colab": {
          "base_uri": "https://localhost:8080/"
        },
        "id": "OZY7YxgvnfI5",
        "outputId": "5dd0f4e2-0d48-496a-b350-e726af2743a6"
      },
      "execution_count": null,
      "outputs": [
        {
          "output_type": "execute_result",
          "data": {
            "text/plain": [
              "int"
            ]
          },
          "metadata": {},
          "execution_count": 3
        }
      ]
    },
    {
      "cell_type": "markdown",
      "source": [
        "List can call its variable by name list [index]"
      ],
      "metadata": {
        "id": "7gsTNmr91gaC"
      }
    },
    {
      "cell_type": "code",
      "source": [
        "a [2]"
      ],
      "metadata": {
        "colab": {
          "base_uri": "https://localhost:8080/",
          "height": 35
        },
        "id": "h5aUfAuFn471",
        "outputId": "a749e379-997d-4ee7-bd3c-981c5d9d09de"
      },
      "execution_count": null,
      "outputs": [
        {
          "output_type": "execute_result",
          "data": {
            "text/plain": [
              "'perusahaan'"
            ],
            "application/vnd.google.colaboratory.intrinsic+json": {
              "type": "string"
            }
          },
          "metadata": {},
          "execution_count": 4
        }
      ]
    },
    {
      "cell_type": "code",
      "source": [
        "menu = ['bebek goreng', 'ikan bakar', 'ayam balado', 'iga panggang']"
      ],
      "metadata": {
        "id": "G_dXHBmVoCcZ"
      },
      "execution_count": null,
      "outputs": []
    },
    {
      "cell_type": "code",
      "source": [
        "menu [2]"
      ],
      "metadata": {
        "colab": {
          "base_uri": "https://localhost:8080/",
          "height": 35
        },
        "id": "wceqbcFDoTrX",
        "outputId": "f7fd243d-a468-48f9-d3ee-e0aabc440186"
      },
      "execution_count": null,
      "outputs": [
        {
          "output_type": "execute_result",
          "data": {
            "text/plain": [
              "'ayam balado'"
            ],
            "application/vnd.google.colaboratory.intrinsic+json": {
              "type": "string"
            }
          },
          "metadata": {},
          "execution_count": 6
        }
      ]
    },
    {
      "cell_type": "markdown",
      "source": [
        "-1 means the first from the back as well as -2 which means the penultimate and so on"
      ],
      "metadata": {
        "id": "VwWhA0Vw1spP"
      }
    },
    {
      "cell_type": "code",
      "source": [
        "menu [-1]"
      ],
      "metadata": {
        "colab": {
          "base_uri": "https://localhost:8080/",
          "height": 35
        },
        "id": "cEHbGQ8NpHI8",
        "outputId": "ef5d9827-e06e-4036-c92b-7e5cfeb0d3a8"
      },
      "execution_count": null,
      "outputs": [
        {
          "output_type": "execute_result",
          "data": {
            "text/plain": [
              "'iga panggang'"
            ],
            "application/vnd.google.colaboratory.intrinsic+json": {
              "type": "string"
            }
          },
          "metadata": {},
          "execution_count": 7
        }
      ]
    },
    {
      "cell_type": "code",
      "source": [
        "menu [-2]"
      ],
      "metadata": {
        "colab": {
          "base_uri": "https://localhost:8080/",
          "height": 35
        },
        "id": "m9N0-EY8pK7d",
        "outputId": "3bf3deca-d0a2-461b-b2b3-f895465829e9"
      },
      "execution_count": null,
      "outputs": [
        {
          "output_type": "execute_result",
          "data": {
            "text/plain": [
              "'ayam balado'"
            ],
            "application/vnd.google.colaboratory.intrinsic+json": {
              "type": "string"
            }
          },
          "metadata": {},
          "execution_count": 8
        }
      ]
    },
    {
      "cell_type": "markdown",
      "source": [
        "if you call index like below, the number behind it will be subtracted by one so that it will display variables up to index 1 only"
      ],
      "metadata": {
        "id": "Y4JOln9V16YF"
      }
    },
    {
      "cell_type": "code",
      "source": [
        "menu [0:2]"
      ],
      "metadata": {
        "colab": {
          "base_uri": "https://localhost:8080/"
        },
        "id": "Ozc9HNsppUG8",
        "outputId": "ffdf2f6f-4c2f-455d-d80c-a02e9cf7b66e"
      },
      "execution_count": null,
      "outputs": [
        {
          "output_type": "execute_result",
          "data": {
            "text/plain": [
              "['bebek goreng', 'ikan bakar']"
            ]
          },
          "metadata": {},
          "execution_count": 9
        }
      ]
    },
    {
      "cell_type": "code",
      "source": [
        "menu [:3]"
      ],
      "metadata": {
        "colab": {
          "base_uri": "https://localhost:8080/"
        },
        "id": "843cBDfDpZuh",
        "outputId": "613a325f-701a-459f-d2b1-10bbf7bbe413"
      },
      "execution_count": null,
      "outputs": [
        {
          "output_type": "execute_result",
          "data": {
            "text/plain": [
              "['bebek goreng', 'ikan bakar', 'ayam balado']"
            ]
          },
          "metadata": {},
          "execution_count": 10
        }
      ]
    },
    {
      "cell_type": "code",
      "source": [
        "menu [2:]"
      ],
      "metadata": {
        "colab": {
          "base_uri": "https://localhost:8080/"
        },
        "id": "397YEYJJpfc8",
        "outputId": "83e75831-b5c8-40b5-edb5-c342175df877"
      },
      "execution_count": null,
      "outputs": [
        {
          "output_type": "execute_result",
          "data": {
            "text/plain": [
              "['ayam balado', 'iga panggang']"
            ]
          },
          "metadata": {},
          "execution_count": 11
        }
      ]
    },
    {
      "cell_type": "code",
      "source": [
        "menu [-1:]"
      ],
      "metadata": {
        "colab": {
          "base_uri": "https://localhost:8080/"
        },
        "id": "VS3e0-zTpnac",
        "outputId": "1a351aa0-f9f6-4d57-86df-8a41817da90e"
      },
      "execution_count": null,
      "outputs": [
        {
          "output_type": "execute_result",
          "data": {
            "text/plain": [
              "['iga panggang']"
            ]
          },
          "metadata": {},
          "execution_count": 12
        }
      ]
    },
    {
      "cell_type": "markdown",
      "source": [
        "Len is used to find out how many variables are in the list"
      ],
      "metadata": {
        "id": "Phvk4utj2Q5K"
      }
    },
    {
      "cell_type": "code",
      "source": [
        "len (menu)"
      ],
      "metadata": {
        "colab": {
          "base_uri": "https://localhost:8080/"
        },
        "id": "oVL7wntvppgY",
        "outputId": "ad3f5b3c-96ae-4c61-844e-986d283253ea"
      },
      "execution_count": null,
      "outputs": [
        {
          "output_type": "execute_result",
          "data": {
            "text/plain": [
              "7"
            ]
          },
          "metadata": {},
          "execution_count": 17
        }
      ]
    },
    {
      "cell_type": "markdown",
      "source": [
        "append is used to add a variable in the list"
      ],
      "metadata": {
        "id": "bhqCcOKX2WTU"
      }
    },
    {
      "cell_type": "code",
      "source": [
        "menu.append ('baso goreng')\n",
        "print (menu)"
      ],
      "metadata": {
        "colab": {
          "base_uri": "https://localhost:8080/"
        },
        "id": "U0qDrB3Cp6pE",
        "outputId": "83a60e05-79b7-486f-bbd4-24ab4c830abb"
      },
      "execution_count": null,
      "outputs": [
        {
          "output_type": "stream",
          "name": "stdout",
          "text": [
            "['bebek goreng', 'ikan bakar', 'ayam balado', 'iga panggang', 'baso goreng', 'baso goreng', 'baso goreng']\n"
          ]
        }
      ]
    },
    {
      "cell_type": "markdown",
      "source": [
        "del is used to delete a variable by calling its index"
      ],
      "metadata": {
        "id": "qCFhGYRQ2bb5"
      }
    },
    {
      "cell_type": "code",
      "source": [
        "del menu[1]\n",
        "print (menu)"
      ],
      "metadata": {
        "colab": {
          "base_uri": "https://localhost:8080/"
        },
        "id": "u8nzuGohp_TN",
        "outputId": "878df654-fc3f-4da3-e9d0-3a254bdb1667"
      },
      "execution_count": null,
      "outputs": [
        {
          "output_type": "stream",
          "name": "stdout",
          "text": [
            "['bebek goreng', 'ayam balado', 'iga panggang', 'baso goreng', 'baso goreng', 'baso goreng']\n"
          ]
        }
      ]
    },
    {
      "cell_type": "markdown",
      "source": [
        "pop is used to delete and display the deleted variable which is the last variable"
      ],
      "metadata": {
        "id": "mQ-VzsiM2shi"
      }
    },
    {
      "cell_type": "code",
      "source": [
        "menu.pop ()"
      ],
      "metadata": {
        "colab": {
          "base_uri": "https://localhost:8080/",
          "height": 35
        },
        "id": "QdBg4DHWqQRz",
        "outputId": "dda46b07-a8f3-4650-e520-f94391ca147f"
      },
      "execution_count": null,
      "outputs": [
        {
          "output_type": "execute_result",
          "data": {
            "text/plain": [
              "'baso goreng'"
            ],
            "application/vnd.google.colaboratory.intrinsic+json": {
              "type": "string"
            }
          },
          "metadata": {},
          "execution_count": 19
        }
      ]
    },
    {
      "cell_type": "markdown",
      "source": [
        " extend is used to add another list to an existing list"
      ],
      "metadata": {
        "id": "kqec1_9S27R7"
      }
    },
    {
      "cell_type": "code",
      "source": [
        "menu.extend (['kerang saus padang', 'sapi lada hitam', 'kerapu goreng'])"
      ],
      "metadata": {
        "id": "ozfv_JG_q-Gq"
      },
      "execution_count": null,
      "outputs": []
    },
    {
      "cell_type": "code",
      "source": [
        "print (menu)"
      ],
      "metadata": {
        "colab": {
          "base_uri": "https://localhost:8080/"
        },
        "id": "j3eH2Ibbx3eP",
        "outputId": "e162a078-c133-4c14-b43c-04edcbc8297e"
      },
      "execution_count": null,
      "outputs": [
        {
          "output_type": "stream",
          "name": "stdout",
          "text": [
            "['bebek goreng', 'ayam balado', 'iga panggang', 'baso goreng', 'baso goreng', 'kerang saus padang', 'sapi lada hitam', 'kerapu goreng']\n"
          ]
        }
      ]
    },
    {
      "cell_type": "code",
      "source": [
        "a = [1, 3, 5, 7, 9, 11, 13, 15, 17, 19, 21]"
      ],
      "metadata": {
        "id": "8qGZbFp3x5XQ"
      },
      "execution_count": null,
      "outputs": []
    },
    {
      "cell_type": "markdown",
      "source": [
        "remove is used to remove a variable by calling the variable"
      ],
      "metadata": {
        "id": "Ngcz-Ew43CZi"
      }
    },
    {
      "cell_type": "code",
      "source": [
        "a.remove (5)\n",
        "print (a)"
      ],
      "metadata": {
        "colab": {
          "base_uri": "https://localhost:8080/"
        },
        "id": "RQ2sKJA9yHdc",
        "outputId": "67124519-4d99-4a6b-e8e2-a647637ecaab"
      },
      "execution_count": null,
      "outputs": [
        {
          "output_type": "stream",
          "name": "stdout",
          "text": [
            "[1, 3, 7, 9, 11, 13, 15, 17, 19, 21]\n"
          ]
        }
      ]
    },
    {
      "cell_type": "code",
      "source": [
        "del(a[1])\n",
        "print (a)"
      ],
      "metadata": {
        "colab": {
          "base_uri": "https://localhost:8080/"
        },
        "id": "AspY9p5KyM-v",
        "outputId": "a29051be-0edf-4a53-b586-ab0db70ca696"
      },
      "execution_count": null,
      "outputs": [
        {
          "output_type": "stream",
          "name": "stdout",
          "text": [
            "[1, 7, 9, 11, 13, 15, 17, 19, 21]\n"
          ]
        }
      ]
    },
    {
      "cell_type": "markdown",
      "source": [
        "index is used to find out the index of the called variable"
      ],
      "metadata": {
        "id": "GnnXOhSe3IeY"
      }
    },
    {
      "cell_type": "code",
      "source": [
        "a.index (13)"
      ],
      "metadata": {
        "colab": {
          "base_uri": "https://localhost:8080/"
        },
        "id": "_84UUIsHyXNZ",
        "outputId": "ebd20e92-c024-43fa-a785-f3f8ea5aebd8"
      },
      "execution_count": null,
      "outputs": [
        {
          "output_type": "execute_result",
          "data": {
            "text/plain": [
              "4"
            ]
          },
          "metadata": {},
          "execution_count": 25
        }
      ]
    },
    {
      "cell_type": "code",
      "source": [
        "b = [1,1,1,1,1,2,3,2,4,4,4,2,4,5,2]"
      ],
      "metadata": {
        "id": "FR1RZx47yhVp"
      },
      "execution_count": null,
      "outputs": []
    },
    {
      "cell_type": "markdown",
      "source": [
        "count is used to count the number of data from the called variable"
      ],
      "metadata": {
        "id": "K21gVWxh3ODl"
      }
    },
    {
      "cell_type": "code",
      "source": [
        "b.count (4)"
      ],
      "metadata": {
        "colab": {
          "base_uri": "https://localhost:8080/"
        },
        "id": "UdUM_xF9ypPz",
        "outputId": "af3fe6e0-cee3-4fff-a78f-8ca624fb71d1"
      },
      "execution_count": null,
      "outputs": [
        {
          "output_type": "execute_result",
          "data": {
            "text/plain": [
              "4"
            ]
          },
          "metadata": {},
          "execution_count": 27
        }
      ]
    },
    {
      "cell_type": "code",
      "source": [
        "len(b)"
      ],
      "metadata": {
        "colab": {
          "base_uri": "https://localhost:8080/"
        },
        "id": "lwGKpUIAyshO",
        "outputId": "212883cd-7b92-4fef-8272-4e4bd07bd35d"
      },
      "execution_count": null,
      "outputs": [
        {
          "output_type": "execute_result",
          "data": {
            "text/plain": [
              "15"
            ]
          },
          "metadata": {},
          "execution_count": 28
        }
      ]
    },
    {
      "cell_type": "markdown",
      "source": [
        "sort is used to sort data"
      ],
      "metadata": {
        "id": "UG0_rGQs3XG0"
      }
    },
    {
      "cell_type": "code",
      "source": [
        "b.sort()\n",
        "print(b)"
      ],
      "metadata": {
        "colab": {
          "base_uri": "https://localhost:8080/"
        },
        "id": "bRe7NbQVyuuR",
        "outputId": "f724f3ea-0678-4634-cf9e-9fef8d4e6015"
      },
      "execution_count": null,
      "outputs": [
        {
          "output_type": "stream",
          "name": "stdout",
          "text": [
            "[1, 1, 1, 1, 1, 2, 2, 2, 2, 3, 4, 4, 4, 4, 5]\n"
          ]
        }
      ]
    },
    {
      "cell_type": "markdown",
      "source": [
        "reverse is the opposite of sort so the data will be sorted in reverse"
      ],
      "metadata": {
        "id": "dtgfIx1p3cuV"
      }
    },
    {
      "cell_type": "code",
      "source": [
        "b.reverse()\n",
        "print(b)"
      ],
      "metadata": {
        "colab": {
          "base_uri": "https://localhost:8080/"
        },
        "id": "78dDXgl-y2tg",
        "outputId": "8928586e-de54-4899-f95d-890e77116b05"
      },
      "execution_count": null,
      "outputs": [
        {
          "output_type": "stream",
          "name": "stdout",
          "text": [
            "[5, 4, 4, 4, 4, 3, 2, 2, 2, 2, 1, 1, 1, 1, 1]\n"
          ]
        }
      ]
    },
    {
      "cell_type": "markdown",
      "source": [
        "# Tupple"
      ],
      "metadata": {
        "id": "QEU5Sb6kzQgo"
      }
    },
    {
      "cell_type": "markdown",
      "source": [
        "tupple are lists. The main difference between tuples and lists is that tuples are immutable"
      ],
      "metadata": {
        "id": "UzfyNuha3iL0"
      }
    },
    {
      "cell_type": "code",
      "source": [
        "a = (5, 'void century', 2.1)"
      ],
      "metadata": {
        "id": "2993jsmDy59r"
      },
      "execution_count": null,
      "outputs": []
    },
    {
      "cell_type": "code",
      "source": [
        "print (a)"
      ],
      "metadata": {
        "colab": {
          "base_uri": "https://localhost:8080/"
        },
        "id": "92nCkTUpz77m",
        "outputId": "538a491a-801a-4730-d7a7-00e2877ec496"
      },
      "execution_count": null,
      "outputs": [
        {
          "output_type": "stream",
          "name": "stdout",
          "text": [
            "(5, 'void century', 2.1)\n"
          ]
        }
      ]
    },
    {
      "cell_type": "code",
      "source": [
        "print (a[1])"
      ],
      "metadata": {
        "colab": {
          "base_uri": "https://localhost:8080/"
        },
        "id": "_y0fdKtf0ClI",
        "outputId": "9cef41b9-14e2-4498-ba3a-529cc0f43a1d"
      },
      "execution_count": null,
      "outputs": [
        {
          "output_type": "stream",
          "name": "stdout",
          "text": [
            "void century\n"
          ]
        }
      ]
    },
    {
      "cell_type": "code",
      "source": [
        "print (a[0:2])"
      ],
      "metadata": {
        "colab": {
          "base_uri": "https://localhost:8080/"
        },
        "id": "cLG53x2_0F_y",
        "outputId": "54a8bc86-a372-44c7-c578-e328e6e5262d"
      },
      "execution_count": null,
      "outputs": [
        {
          "output_type": "stream",
          "name": "stdout",
          "text": [
            "(5, 'void century')\n"
          ]
        }
      ]
    },
    {
      "cell_type": "markdown",
      "source": [
        "\n",
        "for the tupple the data cannot be changed so an error will appear when trying to change as below\n"
      ],
      "metadata": {
        "id": "pFQyUMb30Td-"
      }
    },
    {
      "cell_type": "code",
      "source": [
        "print (a[0]=23)"
      ],
      "metadata": {
        "colab": {
          "base_uri": "https://localhost:8080/",
          "height": 130
        },
        "id": "3quRMyQF0KGD",
        "outputId": "d4b1b6d8-59b6-4159-888c-abe469194d6e"
      },
      "execution_count": null,
      "outputs": [
        {
          "output_type": "error",
          "ename": "SyntaxError",
          "evalue": "ignored",
          "traceback": [
            "\u001b[0;36m  File \u001b[0;32m\"<ipython-input-38-bfff0a71b7f0>\"\u001b[0;36m, line \u001b[0;32m1\u001b[0m\n\u001b[0;31m    print (a[0]=23)\u001b[0m\n\u001b[0m          ^\u001b[0m\n\u001b[0;31mSyntaxError\u001b[0m\u001b[0;31m:\u001b[0m keyword can't be an expression\n"
          ]
        }
      ]
    },
    {
      "cell_type": "markdown",
      "source": [
        ""
      ],
      "metadata": {
        "id": "iuFz-o9Qn31f"
      }
    },
    {
      "cell_type": "markdown",
      "source": [
        "#Set"
      ],
      "metadata": {
        "id": "fMGhUdtxogqy"
      }
    },
    {
      "cell_type": "markdown",
      "source": [
        "Sets are used to store multiple items in a single variable, written in curly braces '{}'. A set is a collection that is unordered, unchangeable, and unindexed. \n",
        "\n",
        "*   Unorder means that the items in a set do not have a defined order. Duplicates are not allowed in this section\n",
        "\n",
        "*   Unchangeable means that we cannot change the items after the set has been created. But a set itself may be modified, but the elements contained in the set must be of an immutable type.\n",
        " \n",
        "*   Unindexed\n",
        "\n",
        "\n",
        "\n",
        "\n"
      ],
      "metadata": {
        "id": "dYza6B--qI61"
      }
    },
    {
      "cell_type": "code",
      "source": [
        "letter = {\"b\",\"a\",\"n\",\"a\",\"n\",\"a\"}"
      ],
      "metadata": {
        "id": "0TooozJ0tXdN"
      },
      "execution_count": 3,
      "outputs": []
    },
    {
      "cell_type": "code",
      "source": [
        "number = {7,7,5,4,3,2,2,8}"
      ],
      "metadata": {
        "id": "Jwllwr2gyb8h"
      },
      "execution_count": 6,
      "outputs": []
    },
    {
      "cell_type": "code",
      "source": [
        "print (letter)"
      ],
      "metadata": {
        "colab": {
          "base_uri": "https://localhost:8080/"
        },
        "id": "LqYou9LiuvWy",
        "outputId": "d30b6a7f-4661-447e-d976-3e0fa2448f78"
      },
      "execution_count": 4,
      "outputs": [
        {
          "output_type": "stream",
          "name": "stdout",
          "text": [
            "{'a', 'n', 'b'}\n"
          ]
        }
      ]
    },
    {
      "cell_type": "code",
      "source": [
        "print (number)"
      ],
      "metadata": {
        "colab": {
          "base_uri": "https://localhost:8080/"
        },
        "id": "txhbEnXzyiO2",
        "outputId": "a5bcd7ec-820c-487c-d430-0a315d7fd62c"
      },
      "execution_count": 7,
      "outputs": [
        {
          "output_type": "stream",
          "name": "stdout",
          "text": [
            "{2, 3, 4, 5, 7, 8}\n"
          ]
        }
      ]
    },
    {
      "cell_type": "markdown",
      "source": [
        "because the set is unordered, we cannot retrieve some of the data/elements using the slicing process"
      ],
      "metadata": {
        "id": "YyN6y2BqxLxX"
      }
    },
    {
      "cell_type": "code",
      "source": [
        "print (letter[2])"
      ],
      "metadata": {
        "colab": {
          "base_uri": "https://localhost:8080/",
          "height": 165
        },
        "id": "iTTGGjAyxP6y",
        "outputId": "e42845de-35e7-421d-fd2e-2f077cf6d0b0"
      },
      "execution_count": 5,
      "outputs": [
        {
          "output_type": "error",
          "ename": "TypeError",
          "evalue": "ignored",
          "traceback": [
            "\u001b[0;31m---------------------------------------------------------------------------\u001b[0m",
            "\u001b[0;31mTypeError\u001b[0m                                 Traceback (most recent call last)",
            "\u001b[0;32m<ipython-input-5-86bcfd32d27e>\u001b[0m in \u001b[0;36m<module>\u001b[0;34m()\u001b[0m\n\u001b[0;32m----> 1\u001b[0;31m \u001b[0mprint\u001b[0m \u001b[0;34m(\u001b[0m\u001b[0mletter\u001b[0m\u001b[0;34m[\u001b[0m\u001b[0;36m2\u001b[0m\u001b[0;34m]\u001b[0m\u001b[0;34m)\u001b[0m\u001b[0;34m\u001b[0m\u001b[0;34m\u001b[0m\u001b[0m\n\u001b[0m",
            "\u001b[0;31mTypeError\u001b[0m: 'set' object is not subscriptable"
          ]
        }
      ]
    },
    {
      "cell_type": "markdown",
      "source": [
        "#Dictionary"
      ],
      "metadata": {
        "id": "ZgaTSdUezPTb"
      }
    },
    {
      "cell_type": "markdown",
      "source": [
        "Dictionaries are used to store data values in key:value pairs. In python, dictionaries are defined with the following curly braces '{}' and additions, namely:\n",
        "\n",
        "* Each element of the key-value pair is separated by a comma\n",
        "* Key and value separated by a colon\n",
        "* Key and value can be any variable or object\n",
        "\n",
        "A dictionary is a collection that is ordered, changeable, and doesn't allow duplicates.\n",
        "\n"
      ],
      "metadata": {
        "id": "qNibBOvlzTdf"
      }
    },
    {
      "cell_type": "code",
      "source": [
        "car= {\n",
        "  \"brand\": \"Ford\",\n",
        "  \"model\": \"Mustang\",\n",
        "  \"create\": 1964,\n",
        "  \"year\": 2020\n",
        "}"
      ],
      "metadata": {
        "id": "sHxqJxPfFLYa"
      },
      "execution_count": 15,
      "outputs": []
    },
    {
      "cell_type": "markdown",
      "source": [
        "calling the key in the dictionary then the value can appear for the output, but when calling the value in the dictionary then the key cannot appear"
      ],
      "metadata": {
        "id": "rhNcyq4oGjko"
      }
    },
    {
      "cell_type": "code",
      "source": [
        "car[\"brand\"]"
      ],
      "metadata": {
        "colab": {
          "base_uri": "https://localhost:8080/",
          "height": 35
        },
        "id": "0oJ_VaH5Glml",
        "outputId": "056f4c0d-e1ed-4b00-ad91-22d92f8ed5cb"
      },
      "execution_count": 11,
      "outputs": [
        {
          "output_type": "execute_result",
          "data": {
            "text/plain": [
              "'Ford'"
            ],
            "application/vnd.google.colaboratory.intrinsic+json": {
              "type": "string"
            }
          },
          "metadata": {},
          "execution_count": 11
        }
      ]
    },
    {
      "cell_type": "code",
      "source": [
        "car[\"ford\"]"
      ],
      "metadata": {
        "colab": {
          "base_uri": "https://localhost:8080/",
          "height": 165
        },
        "id": "IURIXxpAG3Gb",
        "outputId": "b573f898-fcef-4110-9695-29cf65616205"
      },
      "execution_count": 12,
      "outputs": [
        {
          "output_type": "error",
          "ename": "KeyError",
          "evalue": "ignored",
          "traceback": [
            "\u001b[0;31m---------------------------------------------------------------------------\u001b[0m",
            "\u001b[0;31mKeyError\u001b[0m                                  Traceback (most recent call last)",
            "\u001b[0;32m<ipython-input-12-9581f1d5c412>\u001b[0m in \u001b[0;36m<module>\u001b[0;34m()\u001b[0m\n\u001b[0;32m----> 1\u001b[0;31m \u001b[0mcar\u001b[0m\u001b[0;34m[\u001b[0m\u001b[0;34m\"ford\"\u001b[0m\u001b[0;34m]\u001b[0m\u001b[0;34m\u001b[0m\u001b[0;34m\u001b[0m\u001b[0m\n\u001b[0m",
            "\u001b[0;31mKeyError\u001b[0m: 'ford'"
          ]
        }
      ]
    },
    {
      "cell_type": "markdown",
      "source": [
        "calling the dictionary not by index but by the key"
      ],
      "metadata": {
        "id": "0eMjxyEyHZKM"
      }
    },
    {
      "cell_type": "code",
      "source": [
        "car[1]"
      ],
      "metadata": {
        "colab": {
          "base_uri": "https://localhost:8080/",
          "height": 165
        },
        "id": "_jfWsep2Hb3w",
        "outputId": "df4d4907-9385-4de4-d4a6-2959a13e330c"
      },
      "execution_count": 16,
      "outputs": [
        {
          "output_type": "error",
          "ename": "KeyError",
          "evalue": "ignored",
          "traceback": [
            "\u001b[0;31m---------------------------------------------------------------------------\u001b[0m",
            "\u001b[0;31mKeyError\u001b[0m                                  Traceback (most recent call last)",
            "\u001b[0;32m<ipython-input-16-12a8ed408434>\u001b[0m in \u001b[0;36m<module>\u001b[0;34m()\u001b[0m\n\u001b[0;32m----> 1\u001b[0;31m \u001b[0mcar\u001b[0m\u001b[0;34m[\u001b[0m\u001b[0;36m1\u001b[0m\u001b[0;34m]\u001b[0m\u001b[0;34m\u001b[0m\u001b[0;34m\u001b[0m\u001b[0m\n\u001b[0m",
            "\u001b[0;31mKeyError\u001b[0m: 1"
          ]
        }
      ]
    },
    {
      "cell_type": "code",
      "source": [
        "car[\"year\"]"
      ],
      "metadata": {
        "colab": {
          "base_uri": "https://localhost:8080/"
        },
        "id": "2GCQ5eToHhlL",
        "outputId": "56a92764-4200-48ec-ac67-c67173e467e8"
      },
      "execution_count": 14,
      "outputs": [
        {
          "output_type": "execute_result",
          "data": {
            "text/plain": [
              "2020"
            ]
          },
          "metadata": {},
          "execution_count": 14
        }
      ]
    },
    {
      "cell_type": "markdown",
      "source": [
        "#Conversion in Python"
      ],
      "metadata": {
        "id": "ZS3pzzWVIfX_"
      }
    },
    {
      "cell_type": "markdown",
      "source": [
        "The process of converting a Python data type into another data type is known as type conversion. We can do the built-in type conversion by using the built-in type function. That is : str(), int() , and float()"
      ],
      "metadata": {
        "id": "qGHPdVz8IkBO"
      }
    },
    {
      "cell_type": "markdown",
      "source": [
        "Conversion from int to float will add the number after the comma"
      ],
      "metadata": {
        "id": "ixdQ1xRCJYqf"
      }
    },
    {
      "cell_type": "code",
      "source": [
        "8"
      ],
      "metadata": {
        "colab": {
          "base_uri": "https://localhost:8080/"
        },
        "id": "bapcPgpGJ6bQ",
        "outputId": "ec1077c5-7f34-4594-d471-f3219c55456c"
      },
      "execution_count": 18,
      "outputs": [
        {
          "output_type": "execute_result",
          "data": {
            "text/plain": [
              "8"
            ]
          },
          "metadata": {},
          "execution_count": 18
        }
      ]
    },
    {
      "cell_type": "code",
      "source": [
        "type (8)"
      ],
      "metadata": {
        "colab": {
          "base_uri": "https://localhost:8080/"
        },
        "id": "vTJPXw5rKAUg",
        "outputId": "ad7d5de9-d49a-4c4f-e883-1e2ca1b0d437"
      },
      "execution_count": 19,
      "outputs": [
        {
          "output_type": "execute_result",
          "data": {
            "text/plain": [
              "int"
            ]
          },
          "metadata": {},
          "execution_count": 19
        }
      ]
    },
    {
      "cell_type": "code",
      "source": [
        "float (8)"
      ],
      "metadata": {
        "colab": {
          "base_uri": "https://localhost:8080/"
        },
        "id": "zL7du5RUJo_d",
        "outputId": "7f44f786-6349-4a66-9856-92ecc14b408a"
      },
      "execution_count": 17,
      "outputs": [
        {
          "output_type": "execute_result",
          "data": {
            "text/plain": [
              "8.0"
            ]
          },
          "metadata": {},
          "execution_count": 17
        }
      ]
    },
    {
      "cell_type": "code",
      "source": [
        "type (float (8))"
      ],
      "metadata": {
        "colab": {
          "base_uri": "https://localhost:8080/"
        },
        "id": "0OB57T34L_c9",
        "outputId": "c7456687-0357-4a57-9f16-30412e217265"
      },
      "execution_count": 26,
      "outputs": [
        {
          "output_type": "execute_result",
          "data": {
            "text/plain": [
              "float"
            ]
          },
          "metadata": {},
          "execution_count": 26
        }
      ]
    },
    {
      "cell_type": "markdown",
      "source": [
        "conversion from float to int will remove numbers after commas"
      ],
      "metadata": {
        "id": "_hEflONIJ155"
      }
    },
    {
      "cell_type": "code",
      "source": [
        "2.5"
      ],
      "metadata": {
        "colab": {
          "base_uri": "https://localhost:8080/"
        },
        "id": "CIoddNI9Kvta",
        "outputId": "679d1f7c-3a19-4955-f617-5eeecfe6a1c9"
      },
      "execution_count": 22,
      "outputs": [
        {
          "output_type": "execute_result",
          "data": {
            "text/plain": [
              "2.5"
            ]
          },
          "metadata": {},
          "execution_count": 22
        }
      ]
    },
    {
      "cell_type": "code",
      "source": [
        "type (2.5)"
      ],
      "metadata": {
        "colab": {
          "base_uri": "https://localhost:8080/"
        },
        "id": "lulyiclCKzr_",
        "outputId": "0bf30afb-a15d-4f34-f51c-60b28a4ffa41"
      },
      "execution_count": 23,
      "outputs": [
        {
          "output_type": "execute_result",
          "data": {
            "text/plain": [
              "float"
            ]
          },
          "metadata": {},
          "execution_count": 23
        }
      ]
    },
    {
      "cell_type": "code",
      "source": [
        "int (2.5)"
      ],
      "metadata": {
        "colab": {
          "base_uri": "https://localhost:8080/"
        },
        "id": "Si4S6moNK2N1",
        "outputId": "02b552f4-6292-4f91-c887-2e7f4f581093"
      },
      "execution_count": 24,
      "outputs": [
        {
          "output_type": "execute_result",
          "data": {
            "text/plain": [
              "2"
            ]
          },
          "metadata": {},
          "execution_count": 24
        }
      ]
    },
    {
      "cell_type": "code",
      "source": [
        "type (int (2.5))"
      ],
      "metadata": {
        "colab": {
          "base_uri": "https://localhost:8080/"
        },
        "id": "fGGTWlZ-MGFy",
        "outputId": "527009d9-f836-47c1-af32-2e154baad99c"
      },
      "execution_count": 27,
      "outputs": [
        {
          "output_type": "execute_result",
          "data": {
            "text/plain": [
              "int"
            ]
          },
          "metadata": {},
          "execution_count": 27
        }
      ]
    },
    {
      "cell_type": "markdown",
      "source": [
        "converting from int to str will add single quotes (') around the numbers\n",
        "But we cannot convert str to int and float "
      ],
      "metadata": {
        "id": "ZDqil2dLLrI5"
      }
    },
    {
      "cell_type": "code",
      "source": [
        "50"
      ],
      "metadata": {
        "colab": {
          "base_uri": "https://localhost:8080/"
        },
        "id": "4bTBwTWjMLP2",
        "outputId": "9d997fc2-93df-4854-e4f9-52175abaf5b6"
      },
      "execution_count": 28,
      "outputs": [
        {
          "output_type": "execute_result",
          "data": {
            "text/plain": [
              "50"
            ]
          },
          "metadata": {},
          "execution_count": 28
        }
      ]
    },
    {
      "cell_type": "code",
      "source": [
        "type (50)"
      ],
      "metadata": {
        "colab": {
          "base_uri": "https://localhost:8080/"
        },
        "id": "KFqvxmE1MOVq",
        "outputId": "8ac94f1e-5f8e-401c-f859-c252c245db60"
      },
      "execution_count": 29,
      "outputs": [
        {
          "output_type": "execute_result",
          "data": {
            "text/plain": [
              "int"
            ]
          },
          "metadata": {},
          "execution_count": 29
        }
      ]
    },
    {
      "cell_type": "code",
      "source": [
        "str (50)"
      ],
      "metadata": {
        "colab": {
          "base_uri": "https://localhost:8080/",
          "height": 35
        },
        "id": "lEKlpZwLLtoh",
        "outputId": "6628e346-b18c-43b6-9405-1e9f199dec48"
      },
      "execution_count": 25,
      "outputs": [
        {
          "output_type": "execute_result",
          "data": {
            "text/plain": [
              "'50'"
            ],
            "application/vnd.google.colaboratory.intrinsic+json": {
              "type": "string"
            }
          },
          "metadata": {},
          "execution_count": 25
        }
      ]
    },
    {
      "cell_type": "code",
      "source": [
        "type (str (50))"
      ],
      "metadata": {
        "colab": {
          "base_uri": "https://localhost:8080/"
        },
        "id": "7as-P0QkMQ7o",
        "outputId": "f4f6fc2a-7999-4aa2-e0bc-62149a3d1051"
      },
      "execution_count": 30,
      "outputs": [
        {
          "output_type": "execute_result",
          "data": {
            "text/plain": [
              "str"
            ]
          },
          "metadata": {},
          "execution_count": 30
        }
      ]
    },
    {
      "cell_type": "code",
      "source": [
        "\"2a\""
      ],
      "metadata": {
        "colab": {
          "base_uri": "https://localhost:8080/",
          "height": 35
        },
        "id": "Pp_OMoypM2Vw",
        "outputId": "4400b4b2-048a-4b15-bdb8-e910359a39dd"
      },
      "execution_count": 33,
      "outputs": [
        {
          "output_type": "execute_result",
          "data": {
            "text/plain": [
              "'2a'"
            ],
            "application/vnd.google.colaboratory.intrinsic+json": {
              "type": "string"
            }
          },
          "metadata": {},
          "execution_count": 33
        }
      ]
    },
    {
      "cell_type": "code",
      "source": [
        "type (\"2a\")"
      ],
      "metadata": {
        "colab": {
          "base_uri": "https://localhost:8080/"
        },
        "id": "c7oldrNdNKuQ",
        "outputId": "5dcdd6d5-a961-41ac-8cb5-58cb67412daf"
      },
      "execution_count": 34,
      "outputs": [
        {
          "output_type": "execute_result",
          "data": {
            "text/plain": [
              "str"
            ]
          },
          "metadata": {},
          "execution_count": 34
        }
      ]
    },
    {
      "cell_type": "code",
      "source": [
        "int (\"2a\")"
      ],
      "metadata": {
        "colab": {
          "base_uri": "https://localhost:8080/",
          "height": 165
        },
        "id": "9EnDhuW5NOaL",
        "outputId": "cd33ee80-70ce-4620-c476-3b4600915318"
      },
      "execution_count": 35,
      "outputs": [
        {
          "output_type": "error",
          "ename": "ValueError",
          "evalue": "ignored",
          "traceback": [
            "\u001b[0;31m---------------------------------------------------------------------------\u001b[0m",
            "\u001b[0;31mValueError\u001b[0m                                Traceback (most recent call last)",
            "\u001b[0;32m<ipython-input-35-36b2e506069b>\u001b[0m in \u001b[0;36m<module>\u001b[0;34m()\u001b[0m\n\u001b[0;32m----> 1\u001b[0;31m \u001b[0mint\u001b[0m \u001b[0;34m(\u001b[0m\u001b[0;34m\"2a\"\u001b[0m\u001b[0;34m)\u001b[0m\u001b[0;34m\u001b[0m\u001b[0;34m\u001b[0m\u001b[0m\n\u001b[0m",
            "\u001b[0;31mValueError\u001b[0m: invalid literal for int() with base 10: '2a'"
          ]
        }
      ]
    },
    {
      "cell_type": "code",
      "source": [
        "float (\"satu\")"
      ],
      "metadata": {
        "colab": {
          "base_uri": "https://localhost:8080/",
          "height": 165
        },
        "id": "kPc9IUD8OD4v",
        "outputId": "bd74827e-8b12-46ef-fe99-17c02b46b813"
      },
      "execution_count": 36,
      "outputs": [
        {
          "output_type": "error",
          "ename": "ValueError",
          "evalue": "ignored",
          "traceback": [
            "\u001b[0;31m---------------------------------------------------------------------------\u001b[0m",
            "\u001b[0;31mValueError\u001b[0m                                Traceback (most recent call last)",
            "\u001b[0;32m<ipython-input-36-60d511d08a25>\u001b[0m in \u001b[0;36m<module>\u001b[0;34m()\u001b[0m\n\u001b[0;32m----> 1\u001b[0;31m \u001b[0mfloat\u001b[0m \u001b[0;34m(\u001b[0m\u001b[0;34m\"satu\"\u001b[0m\u001b[0;34m)\u001b[0m\u001b[0;34m\u001b[0m\u001b[0;34m\u001b[0m\u001b[0m\n\u001b[0m",
            "\u001b[0;31mValueError\u001b[0m: could not convert string to float: 'satu'"
          ]
        }
      ]
    }
  ]
}